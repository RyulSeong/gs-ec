{
 "cells": [
  {
   "cell_type": "code",
   "execution_count": null,
   "id": "6ce7029f",
   "metadata": {},
   "outputs": [],
   "source": [
    "import os\n",
    "import pandas as pd"
   ]
  },
  {
   "cell_type": "code",
   "execution_count": null,
   "id": "1963e215",
   "metadata": {},
   "outputs": [],
   "source": [
    "os.chdir('C://Users//USER//gs크롤링')"
   ]
  },
  {
   "cell_type": "code",
   "execution_count": null,
   "id": "ba8b9982",
   "metadata": {},
   "outputs": [],
   "source": [
    "keyword = input()\n",
    "key = keyword.split(' ')\n",
    "key"
   ]
  },
  {
   "cell_type": "code",
   "execution_count": null,
   "id": "d6c67525",
   "metadata": {},
   "outputs": [],
   "source": [
    "keyword = input()\n",
    "key = keyword.split(' ')\n",
    "key"
   ]
  },
  {
   "cell_type": "code",
   "execution_count": null,
   "id": "e75351d2",
   "metadata": {},
   "outputs": [],
   "source": [
    "# 키워드 별 크롤링 엑셀 파일들 하나로 합치기\n",
    "# 크롤링 된 파일에 키워드 column 없으면 추가\n",
    "\n",
    "for key in key:\n",
    "    i = 1\n",
    "    data = pd.DataFrame(columns = ['keyword', 'text', 'date'])\n",
    "    try:\n",
    "        os.chdir('C://Users//USER//gs크롤링')\n",
    "        while True:\n",
    "            data1 = pd.read_csv(key + str(i) + '.csv', encoding='cp949')\n",
    "            del data1['Unnamed: 0']\n",
    "            if len(data1.columns) == 2:\n",
    "                data1.insert(0, 'keyword', key)\n",
    "            data1.columns = ['keyword', 'text', 'date']\n",
    "            data = pd.concat([data, data1])\n",
    "            i+=1\n",
    "    except:\n",
    "        print('')\n",
    "    data.reset_index(drop = True, inplace = True)\n",
    "    os.chdir('C://Users//USER//gs크롤링 최종')\n",
    "    data.to_csv(key + '.csv', encoding='cp949')"
   ]
  },
  {
   "cell_type": "code",
   "execution_count": null,
   "id": "b7846167",
   "metadata": {},
   "outputs": [],
   "source": [
    "os.chdir('C://Users//USER//gs크롤링 최종')"
   ]
  },
  {
   "cell_type": "code",
   "execution_count": null,
   "id": "214d75cd",
   "metadata": {},
   "outputs": [],
   "source": [
    "keyword = input()\n",
    "key = keyword.split(' ')\n",
    "key"
   ]
  },
  {
   "cell_type": "code",
   "execution_count": null,
   "id": "2e14aac5",
   "metadata": {},
   "outputs": [],
   "source": [
    "data = pd.DataFrame(columns = ['keyword', 'text', 'date'])"
   ]
  },
  {
   "cell_type": "code",
   "execution_count": null,
   "id": "06845494",
   "metadata": {},
   "outputs": [],
   "source": [
    "# 키워드 별 크롤링 된 파일 하나로 합치기\n",
    "\n",
    "for key in key:\n",
    "    data1 = pd.read_csv(key + '.csv', encoding='cp949')\n",
    "    data = pd.concat([data, data1])\n",
    "data.reset_index(drop = True, inplace = True)\n",
    "del data['Unnamed: 0']"
   ]
  },
  {
   "cell_type": "code",
   "execution_count": null,
   "id": "4a467bb7",
   "metadata": {},
   "outputs": [],
   "source": [
    "sheet = data"
   ]
  },
  {
   "cell_type": "code",
   "execution_count": null,
   "id": "a3466f7b",
   "metadata": {},
   "outputs": [],
   "source": [
    "sheet"
   ]
  },
  {
   "cell_type": "code",
   "execution_count": null,
   "id": "61cd8739",
   "metadata": {},
   "outputs": [],
   "source": [
    "sheet.to_csv('직장인_크롤링_데이터.csv')"
   ]
  },
  {
   "cell_type": "code",
   "execution_count": null,
   "id": "b9099788",
   "metadata": {},
   "outputs": [],
   "source": [
    "sheet = pd.read_csv('직장인_크롤링_데이터.csv')"
   ]
  },
  {
   "cell_type": "code",
   "execution_count": null,
   "id": "36ffdd31",
   "metadata": {},
   "outputs": [],
   "source": [
    "del sheet['Unnamed: 0']"
   ]
  },
  {
   "cell_type": "code",
   "execution_count": null,
   "id": "d553b047",
   "metadata": {},
   "outputs": [],
   "source": [
    "sheet"
   ]
  },
  {
   "cell_type": "code",
   "execution_count": null,
   "id": "782884c3",
   "metadata": {},
   "outputs": [],
   "source": [
    "sheet.keyword.unique()"
   ]
  },
  {
   "cell_type": "code",
   "execution_count": null,
   "id": "9fdcab8d",
   "metadata": {},
   "outputs": [],
   "source": []
  },
  {
   "cell_type": "markdown",
   "id": "3a880a06",
   "metadata": {},
   "source": [
    "### Null값 확인"
   ]
  },
  {
   "cell_type": "code",
   "execution_count": null,
   "id": "c16e6bb5",
   "metadata": {},
   "outputs": [],
   "source": [
    "#혹시 Null 값을 가진 데이터가 있는지 확인 \n",
    "print(sheet.isnull().sum())"
   ]
  },
  {
   "cell_type": "code",
   "execution_count": null,
   "id": "63059f78",
   "metadata": {},
   "outputs": [],
   "source": [
    "# 결측치 존재하는 행 제거\n",
    "sheet.dropna(axis=0, inplace = True)"
   ]
  },
  {
   "cell_type": "code",
   "execution_count": null,
   "id": "0cef24e7",
   "metadata": {},
   "outputs": [],
   "source": [
    "# index 순서 리셋\n",
    "sheet = sheet.reset_index(drop=True)"
   ]
  },
  {
   "cell_type": "code",
   "execution_count": null,
   "id": "d2b47970",
   "metadata": {},
   "outputs": [],
   "source": [
    "#혹시 Null 값을 가진 데이터가 있는지 확인 \n",
    "print(sheet.isnull().sum())"
   ]
  },
  {
   "cell_type": "code",
   "execution_count": null,
   "id": "9bb2cff0",
   "metadata": {},
   "outputs": [],
   "source": [
    "sheet.keyword.unique()"
   ]
  },
  {
   "cell_type": "code",
   "execution_count": null,
   "id": "f908d3e8",
   "metadata": {},
   "outputs": [],
   "source": []
  },
  {
   "cell_type": "markdown",
   "id": "ae1c3433",
   "metadata": {},
   "source": [
    "### 중복데이터 확인/제거"
   ]
  },
  {
   "cell_type": "code",
   "execution_count": null,
   "id": "2944968c",
   "metadata": {},
   "outputs": [],
   "source": [
    "#중복 데이터 개수 확인\n",
    "sheet['text'].duplicated().sum()"
   ]
  },
  {
   "cell_type": "code",
   "execution_count": null,
   "id": "058f792e",
   "metadata": {},
   "outputs": [],
   "source": [
    "#먄약 중복 데이터가 있다면 제거\n",
    "sheet = sheet.drop_duplicates(['text'])\n",
    "sheet.reset_index(inplace = True)\n",
    "del sheet['index']\n",
    "# sheet = sheet.iloc[:,[2]] #review column만 가져오기\n",
    "sheet"
   ]
  },
  {
   "cell_type": "code",
   "execution_count": null,
   "id": "c858a61d",
   "metadata": {},
   "outputs": [],
   "source": [
    "sheet.keyword.unique()"
   ]
  },
  {
   "cell_type": "code",
   "execution_count": null,
   "id": "0823c1f8",
   "metadata": {},
   "outputs": [],
   "source": []
  },
  {
   "cell_type": "markdown",
   "id": "7381ec9e",
   "metadata": {},
   "source": [
    "### 2022, 2023년 현재 업로드한 게시물만 사용\n",
    "- 22년 1월~ 23년 3월(현재) : 15개월"
   ]
  },
  {
   "cell_type": "code",
   "execution_count": null,
   "id": "6a5d7a8d",
   "metadata": {},
   "outputs": [],
   "source": [
    "import re\n",
    "def check_date(date):\n",
    "    date_reg = re.compile('2022|2023|어제|일|시간')\n",
    "    date_bool = date_reg.search(date) != None\n",
    "    return date_bool\n",
    "date_check = sheet.date.apply(check_date)\n",
    "date_check"
   ]
  },
  {
   "cell_type": "code",
   "execution_count": null,
   "id": "ed338550",
   "metadata": {},
   "outputs": [],
   "source": [
    "sheet = sheet[date_check].reset_index(drop = True)\n",
    "print(sheet.shape)\n",
    "sheet.head()"
   ]
  },
  {
   "cell_type": "code",
   "execution_count": null,
   "id": "1a9aba4b",
   "metadata": {},
   "outputs": [],
   "source": []
  },
  {
   "cell_type": "markdown",
   "id": "fb9e3171",
   "metadata": {},
   "source": [
    "### stopwors 삭제"
   ]
  },
  {
   "cell_type": "code",
   "execution_count": null,
   "id": "ad30b230",
   "metadata": {},
   "outputs": [],
   "source": [
    "#광고글 특징을 Stopwords로 지정하여 해당 글은 삭제할 수 있도록 함\n",
    "#Stopwords에 해당 문구가 들어가면 삭제 대상이 되도록 문구를 추가해줌\n",
    "\n",
    "\n",
    "Stopwords = ['모집중', '사례비', '국평오', '실거래가 등록 기준', '오늘의 운세', '블라 형들의 맛집 리스트',\n",
    "            '경제살롱', '신문 요약', '뉴스 운세', '뉴스운세', '운세뉴스', '설문, 인터뷰', '설문,인터뷰',\n",
    "            '장중 특징주, 장중특징주'] # 광고 관련 키워드 추가"
   ]
  },
  {
   "cell_type": "code",
   "execution_count": null,
   "id": "36abb751",
   "metadata": {},
   "outputs": [],
   "source": [
    "sheet['text'].str.contains('|'.join(Stopwords))"
   ]
  },
  {
   "cell_type": "code",
   "execution_count": null,
   "id": "dda15d27",
   "metadata": {},
   "outputs": [],
   "source": [
    "#Stopwords가 들어간 글은 삭제\n",
    "\n",
    "clean_sheet = sheet[~sheet['text'].str.contains('|'.join(Stopwords))]\n",
    "clean_sheet"
   ]
  },
  {
   "cell_type": "code",
   "execution_count": null,
   "id": "6193f6a7",
   "metadata": {},
   "outputs": [],
   "source": [
    "#특정 '단어' 삭제\n",
    "def clean_str(text):\n",
    "    remove_w = ['국평오', '']\n",
    "    for i in remove_w:\n",
    "            if i in text:\n",
    "                print(i)\n",
    "                text = text.replace(i, ' ')\n",
    "    return text"
   ]
  },
  {
   "cell_type": "code",
   "execution_count": null,
   "id": "cdb4cd06",
   "metadata": {},
   "outputs": [],
   "source": [
    "clean_sheet['text'] = clean_sheet['text'].apply(lambda x : clean_str(x))"
   ]
  },
  {
   "cell_type": "code",
   "execution_count": null,
   "id": "36e344d5",
   "metadata": {},
   "outputs": [],
   "source": []
  },
  {
   "cell_type": "markdown",
   "id": "f1aa33c3",
   "metadata": {},
   "source": [
    "### 정규식 -1"
   ]
  },
  {
   "cell_type": "code",
   "execution_count": null,
   "id": "8d9b124f",
   "metadata": {},
   "outputs": [],
   "source": [
    "import re\n",
    "\n",
    "def extract_word(text) :\n",
    "    hangul = re.compile('[^가-힣a-zA-Z]')\n",
    "    result = hangul.sub(' ', text)\n",
    "    return result"
   ]
  },
  {
   "cell_type": "code",
   "execution_count": null,
   "id": "8ca79e28",
   "metadata": {},
   "outputs": [],
   "source": [
    "clean_sheet['text'] = clean_sheet['text'].apply(lambda x : extract_word(x))"
   ]
  },
  {
   "cell_type": "code",
   "execution_count": null,
   "id": "370918ab",
   "metadata": {},
   "outputs": [],
   "source": []
  },
  {
   "cell_type": "markdown",
   "id": "17d146bb",
   "metadata": {},
   "source": [
    "### 정규식-2"
   ]
  },
  {
   "cell_type": "code",
   "execution_count": null,
   "id": "8c93717c",
   "metadata": {},
   "outputs": [],
   "source": [
    "import re\n",
    "\n",
    "a = re.compile(\"\\S*@\\S+\")\n",
    "b = re.compile(\"#\\S+\")\n",
    "c = re.compile(\"https?://\\S+\")\n",
    "d = re.compile(\"www\\.\\S+\")\n",
    "\n",
    "def cleanse(text):\n",
    "    result = a.sub(\"\", text)\n",
    "    result = b.sub(\"\", result)\n",
    "    result = c.sub(\"\", result)\n",
    "    result = d.sub(\"\", result)\n",
    "    result = result.replace(\"\\u200b\", \"\")\n",
    "    result = result.replace(\"\\n\", \"\")\n",
    "    return result"
   ]
  },
  {
   "cell_type": "code",
   "execution_count": null,
   "id": "0a7b3053",
   "metadata": {},
   "outputs": [],
   "source": [
    "clean_sheet['text'] = clean_sheet['text'].apply(lambda x : cleanse(x))"
   ]
  },
  {
   "cell_type": "code",
   "execution_count": null,
   "id": "afea3165",
   "metadata": {},
   "outputs": [],
   "source": [
    "clean_sheet.reset_index(drop=True, inplace = True)"
   ]
  },
  {
   "cell_type": "code",
   "execution_count": null,
   "id": "9c841457",
   "metadata": {},
   "outputs": [],
   "source": []
  },
  {
   "cell_type": "markdown",
   "id": "0605f23f",
   "metadata": {},
   "source": [
    "### 소문자 변환 전처리"
   ]
  },
  {
   "cell_type": "code",
   "execution_count": null,
   "id": "bd518d27",
   "metadata": {},
   "outputs": [],
   "source": [
    "corpus = []\n",
    "for i in range(len(clean_sheet['text'])):\n",
    "    review = clean_sheet['text'][i].lower() #lower case\n",
    "    corpus.append(review)\n",
    "clean_sheet['text'] = corpus"
   ]
  },
  {
   "cell_type": "code",
   "execution_count": null,
   "id": "fce1ebdd",
   "metadata": {},
   "outputs": [],
   "source": []
  },
  {
   "cell_type": "markdown",
   "id": "1704ea32",
   "metadata": {},
   "source": [
    "### 띄어쓰기 처리"
   ]
  },
  {
   "cell_type": "code",
   "execution_count": null,
   "id": "cd749c77",
   "metadata": {},
   "outputs": [],
   "source": [
    "def re_spacing(text):\n",
    "    result = text.strip()\n",
    "    while \"  \" in result:\n",
    "        result = result.replace(\"  \", \" \")\n",
    "    return result"
   ]
  },
  {
   "cell_type": "code",
   "execution_count": null,
   "id": "e6acc168",
   "metadata": {},
   "outputs": [],
   "source": [
    "clean_sheet['text'] = clean_sheet['text'].apply(lambda x : re_spacing(x))"
   ]
  },
  {
   "cell_type": "code",
   "execution_count": null,
   "id": "f11ba121",
   "metadata": {},
   "outputs": [],
   "source": [
    "clean_sheet"
   ]
  },
  {
   "cell_type": "code",
   "execution_count": null,
   "id": "02526d49",
   "metadata": {},
   "outputs": [],
   "source": []
  },
  {
   "cell_type": "markdown",
   "id": "30cbb00c",
   "metadata": {},
   "source": [
    "### 전처리 완료 후 DataFrame으로 변환"
   ]
  },
  {
   "cell_type": "code",
   "execution_count": null,
   "id": "de9742c1",
   "metadata": {},
   "outputs": [],
   "source": [
    "final_sheet = clean_sheet.text\n",
    "final_sheet = final_sheet.reset_index(drop=True)"
   ]
  },
  {
   "cell_type": "code",
   "execution_count": null,
   "id": "20846cd3",
   "metadata": {},
   "outputs": [],
   "source": [
    "final_sheet = pd.DataFrame(final_sheet)"
   ]
  },
  {
   "cell_type": "code",
   "execution_count": null,
   "id": "8a2f9e84",
   "metadata": {},
   "outputs": [],
   "source": [
    "final_sheet"
   ]
  },
  {
   "cell_type": "code",
   "execution_count": null,
   "id": "deda28b1",
   "metadata": {},
   "outputs": [],
   "source": []
  },
  {
   "cell_type": "markdown",
   "id": "7517e207",
   "metadata": {},
   "source": [
    "### CSV 파일로 저장"
   ]
  },
  {
   "cell_type": "code",
   "execution_count": null,
   "id": "83ea0f59",
   "metadata": {},
   "outputs": [],
   "source": [
    "clean_sheet.to_csv('직장인_크롤링_전처리_데이터.csv', encoding = 'utf-8-sig') #파일명 수정(전처리) 필요"
   ]
  }
 ],
 "metadata": {
  "kernelspec": {
   "display_name": "Python 3 (ipykernel)",
   "language": "python",
   "name": "python3"
  },
  "language_info": {
   "codemirror_mode": {
    "name": "ipython",
    "version": 3
   },
   "file_extension": ".py",
   "mimetype": "text/x-python",
   "name": "python",
   "nbconvert_exporter": "python",
   "pygments_lexer": "ipython3",
   "version": "3.9.12"
  }
 },
 "nbformat": 4,
 "nbformat_minor": 5
}
