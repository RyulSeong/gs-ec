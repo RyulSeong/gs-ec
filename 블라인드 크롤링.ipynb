{
 "cells": [
  {
   "cell_type": "code",
   "execution_count": null,
   "id": "5cca1416",
   "metadata": {},
   "outputs": [],
   "source": [
    "from selenium import webdriver\n",
    "import time\n",
    "from bs4 import BeautifulSoup as bs\n",
    "import csv \n",
    "import requests\n",
    "import pandas as pd\n",
    "import re\n",
    "from selenium.webdriver.common.desired_capabilities import DesiredCapabilities\n",
    "from selenium.common.exceptions import UnexpectedAlertPresentException\n",
    "import urllib.request\n",
    "import random\n",
    "from tqdm import tqdm\n",
    "from selenium.webdriver.common.by import By #python ver.3.7 이상일 경우 추가 필요\n",
    "import urllib.parse\n",
    "from selenium.webdriver.common.keys import Keys"
   ]
  },
  {
   "cell_type": "code",
   "execution_count": null,
   "id": "b7c9b0e5",
   "metadata": {},
   "outputs": [],
   "source": [
    "driver = webdriver.Chrome('./chromedriver.exe')\n",
    "driver.implicitly_wait(3)"
   ]
  },
  {
   "cell_type": "code",
   "execution_count": null,
   "id": "360c4331",
   "metadata": {},
   "outputs": [],
   "source": [
    "keyword = input()\n",
    "keyword = keyword.split(' ')\n",
    "word = keyword\n",
    "# 여러 단어를 한 번에 입력하면 게시물이 50개 밖에 수집되지 않아 하나씩 입력"
   ]
  },
  {
   "cell_type": "code",
   "execution_count": null,
   "id": "0a8ce8e4",
   "metadata": {},
   "outputs": [],
   "source": [
    "word"
   ]
  },
  {
   "cell_type": "code",
   "execution_count": null,
   "id": "efaeccf9",
   "metadata": {},
   "outputs": [],
   "source": [
    "contents_list = [] # 본문\n",
    "contents_date_list = [] # 본문 날짜\n",
    "\n",
    "for i in tqdm(url_list):\n",
    "    try:\n",
    "        driver.get(i)\n",
    "        driver.implicitly_wait(2)\n",
    "        try:\n",
    "            while True:\n",
    "                elements = driver.find_element_by_xpath('//*[@id=\"wrap\"]/section/div/div[1]/div[5]/button').click()\n",
    "                time.sleep(random.uniform(1,2))\n",
    "                try:\n",
    "                    code = driver.find_element_by_xpath('//*[@id=\"wrap\"]/div[2]/div/div/div[2]/div/div[1]/div[2]/div[2]/div')\n",
    "                    if code.text != ' ':\n",
    "                        print('계정 인증 풀림')\n",
    "                        break\n",
    "                except:\n",
    "                    print('')\n",
    "        except:\n",
    "            print('')\n",
    "\n",
    "        # 대댓글 더보기 모두 누름\n",
    "        try:\n",
    "            if not driver.find_element_by_css_selector('.btn-reply') == '':\n",
    "                for i in range(len(driver.find_elements_by_css_selector('.btn-reply'))):\n",
    "                    try:\n",
    "                        while True:\n",
    "                            driver.find_element_by_css_selector('.btn-reply').click()\n",
    "                            time.sleep(random.uniform(1,2))\n",
    "                    except:\n",
    "                        print('')\n",
    "        except:\n",
    "            print('')\n",
    "\n",
    "        # 제목 추출\n",
    "        titles = driver.find_element_by_xpath('//*[@id=\"wrap\"]/section/div/div[1]/div[1]/h2')\n",
    "        contents = titles.text\n",
    "\n",
    "        # 본문 추출\n",
    "        content = driver.find_element_by_xpath('//*[@id=\"contentArea\"]')\n",
    "        content = content.text\n",
    "        contents = contents + ' ' + content\n",
    "\n",
    "        # 댓글 추출\n",
    "        review = driver.find_elements_by_css_selector('.cmt-txt')\n",
    "        for i in review:\n",
    "            b = i.text\n",
    "            if b != '작성자가 삭제한 댓글입니다.':\n",
    "                contents = contents + ' ' + b\n",
    "        contents_list.append(contents)\n",
    "\n",
    "        # 본문, 댓글 날짜 추출\n",
    "        date = driver.find_element_by_xpath('//*[@id=\"wrap\"]/section/div/div[1]/div[1]/div[2]/span[1]')\n",
    "        date = date.text\n",
    "        date = date.split('\\n')\n",
    "        date = date[1]\n",
    "        if len(date) == 5:\n",
    "            date = '2023.' + date\n",
    "        contents_date_list.append(date)\n",
    "\n",
    "    except:\n",
    "        print()\n",
    "\n",
    "    if cde == 1:\n",
    "        break\n",
    "\n",
    "keyword_list = []\n",
    "for i in range(len(contents_date_list)):\n",
    "    keyword_list.append(word[0])\n",
    "time.sleep(random.uniform(1,2))\n",
    "\n",
    "data1 = pd.DataFrame(keyword_list)\n",
    "data2 = pd.DataFrame(contents_list)\n",
    "data3 = pd.DataFrame(contents_date_list)\n",
    "data = pd.concat([data1, data2, data3], axis = 1)\n",
    "data.to_excel('%s1.xlsx'%word[0])"
   ]
  }
 ],
 "metadata": {
  "kernelspec": {
   "display_name": "Python 3 (ipykernel)",
   "language": "python",
   "name": "python3"
  },
  "language_info": {
   "codemirror_mode": {
    "name": "ipython",
    "version": 3
   },
   "file_extension": ".py",
   "mimetype": "text/x-python",
   "name": "python",
   "nbconvert_exporter": "python",
   "pygments_lexer": "ipython3",
   "version": "3.9.12"
  }
 },
 "nbformat": 4,
 "nbformat_minor": 5
}
